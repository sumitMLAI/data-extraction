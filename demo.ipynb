{
 "cells": [
  {
   "cell_type": "code",
   "execution_count": 3,
   "metadata": {},
   "outputs": [
    {
     "name": "stdout",
     "output_type": "stream",
     "text": [
      "Requirement already satisfied: paddlepaddle in c:\\users\\sumo8\\anaconda3\\envs\\data_extraction\\lib\\site-packages (2.6.1)\n",
      "Requirement already satisfied: paddleocr in c:\\users\\sumo8\\anaconda3\\envs\\data_extraction\\lib\\site-packages (2.8.0)\n",
      "Collecting requests\n",
      "  Using cached requests-2.32.3-py3-none-any.whl.metadata (4.6 kB)\n",
      "Requirement already satisfied: httpx in c:\\users\\sumo8\\anaconda3\\envs\\data_extraction\\lib\\site-packages (from paddlepaddle) (0.27.0)\n",
      "Requirement already satisfied: numpy>=1.13 in c:\\users\\sumo8\\anaconda3\\envs\\data_extraction\\lib\\site-packages (from paddlepaddle) (1.26.4)\n",
      "Requirement already satisfied: Pillow in c:\\users\\sumo8\\anaconda3\\envs\\data_extraction\\lib\\site-packages (from paddlepaddle) (10.4.0)\n",
      "Requirement already satisfied: decorator in c:\\users\\sumo8\\anaconda3\\envs\\data_extraction\\lib\\site-packages (from paddlepaddle) (5.1.1)\n",
      "Requirement already satisfied: astor in c:\\users\\sumo8\\anaconda3\\envs\\data_extraction\\lib\\site-packages (from paddlepaddle) (0.8.1)\n",
      "Requirement already satisfied: opt-einsum==3.3.0 in c:\\users\\sumo8\\anaconda3\\envs\\data_extraction\\lib\\site-packages (from paddlepaddle) (3.3.0)\n",
      "Requirement already satisfied: protobuf<=3.20.2,>=3.1.0 in c:\\users\\sumo8\\anaconda3\\envs\\data_extraction\\lib\\site-packages (from paddlepaddle) (3.20.2)\n",
      "Requirement already satisfied: shapely in c:\\users\\sumo8\\anaconda3\\envs\\data_extraction\\lib\\site-packages (from paddleocr) (2.0.5)\n",
      "Requirement already satisfied: scikit-image in c:\\users\\sumo8\\anaconda3\\envs\\data_extraction\\lib\\site-packages (from paddleocr) (0.24.0)\n",
      "Requirement already satisfied: imgaug in c:\\users\\sumo8\\anaconda3\\envs\\data_extraction\\lib\\site-packages (from paddleocr) (0.4.0)\n",
      "Requirement already satisfied: pyclipper in c:\\users\\sumo8\\anaconda3\\envs\\data_extraction\\lib\\site-packages (from paddleocr) (1.3.0.post5)\n",
      "Requirement already satisfied: lmdb in c:\\users\\sumo8\\anaconda3\\envs\\data_extraction\\lib\\site-packages (from paddleocr) (1.5.1)\n",
      "Requirement already satisfied: tqdm in c:\\users\\sumo8\\anaconda3\\envs\\data_extraction\\lib\\site-packages (from paddleocr) (4.66.4)\n",
      "Requirement already satisfied: rapidfuzz in c:\\users\\sumo8\\anaconda3\\envs\\data_extraction\\lib\\site-packages (from paddleocr) (3.9.4)\n",
      "Requirement already satisfied: opencv-python in c:\\users\\sumo8\\anaconda3\\envs\\data_extraction\\lib\\site-packages (from paddleocr) (4.10.0.84)\n",
      "Requirement already satisfied: opencv-contrib-python in c:\\users\\sumo8\\anaconda3\\envs\\data_extraction\\lib\\site-packages (from paddleocr) (4.10.0.84)\n",
      "Requirement already satisfied: cython in c:\\users\\sumo8\\anaconda3\\envs\\data_extraction\\lib\\site-packages (from paddleocr) (3.0.10)\n",
      "Requirement already satisfied: pyyaml in c:\\users\\sumo8\\anaconda3\\envs\\data_extraction\\lib\\site-packages (from paddleocr) (6.0.1)\n",
      "Requirement already satisfied: python-docx in c:\\users\\sumo8\\anaconda3\\envs\\data_extraction\\lib\\site-packages (from paddleocr) (1.1.2)\n",
      "Requirement already satisfied: beautifulsoup4 in c:\\users\\sumo8\\anaconda3\\envs\\data_extraction\\lib\\site-packages (from paddleocr) (4.12.3)\n",
      "Requirement already satisfied: fonttools>=4.24.0 in c:\\users\\sumo8\\anaconda3\\envs\\data_extraction\\lib\\site-packages (from paddleocr) (4.53.1)\n",
      "Requirement already satisfied: fire>=0.3.0 in c:\\users\\sumo8\\anaconda3\\envs\\data_extraction\\lib\\site-packages (from paddleocr) (0.6.0)\n",
      "Collecting charset-normalizer<4,>=2 (from requests)\n",
      "  Using cached charset_normalizer-3.3.2-cp310-cp310-win_amd64.whl.metadata (34 kB)\n",
      "Requirement already satisfied: idna<4,>=2.5 in c:\\users\\sumo8\\anaconda3\\envs\\data_extraction\\lib\\site-packages (from requests) (3.7)\n",
      "Collecting urllib3<3,>=1.21.1 (from requests)\n",
      "  Using cached urllib3-2.2.2-py3-none-any.whl.metadata (6.4 kB)\n",
      "Requirement already satisfied: certifi>=2017.4.17 in c:\\users\\sumo8\\anaconda3\\envs\\data_extraction\\lib\\site-packages (from requests) (2024.7.4)\n",
      "Requirement already satisfied: six in c:\\users\\sumo8\\anaconda3\\envs\\data_extraction\\lib\\site-packages (from fire>=0.3.0->paddleocr) (1.16.0)\n",
      "Requirement already satisfied: termcolor in c:\\users\\sumo8\\anaconda3\\envs\\data_extraction\\lib\\site-packages (from fire>=0.3.0->paddleocr) (2.4.0)\n",
      "Requirement already satisfied: soupsieve>1.2 in c:\\users\\sumo8\\anaconda3\\envs\\data_extraction\\lib\\site-packages (from beautifulsoup4->paddleocr) (2.5)\n",
      "Requirement already satisfied: anyio in c:\\users\\sumo8\\anaconda3\\envs\\data_extraction\\lib\\site-packages (from httpx->paddlepaddle) (4.4.0)\n",
      "Requirement already satisfied: httpcore==1.* in c:\\users\\sumo8\\anaconda3\\envs\\data_extraction\\lib\\site-packages (from httpx->paddlepaddle) (1.0.5)\n",
      "Requirement already satisfied: sniffio in c:\\users\\sumo8\\anaconda3\\envs\\data_extraction\\lib\\site-packages (from httpx->paddlepaddle) (1.3.1)\n",
      "Requirement already satisfied: h11<0.15,>=0.13 in c:\\users\\sumo8\\anaconda3\\envs\\data_extraction\\lib\\site-packages (from httpcore==1.*->httpx->paddlepaddle) (0.14.0)\n",
      "Requirement already satisfied: scipy in c:\\users\\sumo8\\anaconda3\\envs\\data_extraction\\lib\\site-packages (from imgaug->paddleocr) (1.14.0)\n",
      "Requirement already satisfied: matplotlib in c:\\users\\sumo8\\anaconda3\\envs\\data_extraction\\lib\\site-packages (from imgaug->paddleocr) (3.9.1)\n",
      "Requirement already satisfied: imageio in c:\\users\\sumo8\\anaconda3\\envs\\data_extraction\\lib\\site-packages (from imgaug->paddleocr) (2.34.2)\n",
      "Requirement already satisfied: networkx>=2.8 in c:\\users\\sumo8\\anaconda3\\envs\\data_extraction\\lib\\site-packages (from scikit-image->paddleocr) (3.3)\n",
      "Requirement already satisfied: tifffile>=2022.8.12 in c:\\users\\sumo8\\anaconda3\\envs\\data_extraction\\lib\\site-packages (from scikit-image->paddleocr) (2024.7.2)\n",
      "Requirement already satisfied: packaging>=21 in c:\\users\\sumo8\\anaconda3\\envs\\data_extraction\\lib\\site-packages (from scikit-image->paddleocr) (24.1)\n",
      "Requirement already satisfied: lazy-loader>=0.4 in c:\\users\\sumo8\\anaconda3\\envs\\data_extraction\\lib\\site-packages (from scikit-image->paddleocr) (0.4)\n",
      "Requirement already satisfied: lxml>=3.1.0 in c:\\users\\sumo8\\anaconda3\\envs\\data_extraction\\lib\\site-packages (from python-docx->paddleocr) (5.2.2)\n",
      "Requirement already satisfied: typing-extensions>=4.9.0 in c:\\users\\sumo8\\anaconda3\\envs\\data_extraction\\lib\\site-packages (from python-docx->paddleocr) (4.12.2)\n",
      "Requirement already satisfied: colorama in c:\\users\\sumo8\\anaconda3\\envs\\data_extraction\\lib\\site-packages (from tqdm->paddleocr) (0.4.6)\n",
      "Requirement already satisfied: exceptiongroup>=1.0.2 in c:\\users\\sumo8\\anaconda3\\envs\\data_extraction\\lib\\site-packages (from anyio->httpx->paddlepaddle) (1.2.2)\n",
      "Requirement already satisfied: contourpy>=1.0.1 in c:\\users\\sumo8\\anaconda3\\envs\\data_extraction\\lib\\site-packages (from matplotlib->imgaug->paddleocr) (1.2.1)\n",
      "Requirement already satisfied: cycler>=0.10 in c:\\users\\sumo8\\anaconda3\\envs\\data_extraction\\lib\\site-packages (from matplotlib->imgaug->paddleocr) (0.12.1)\n",
      "Requirement already satisfied: kiwisolver>=1.3.1 in c:\\users\\sumo8\\anaconda3\\envs\\data_extraction\\lib\\site-packages (from matplotlib->imgaug->paddleocr) (1.4.5)\n",
      "Requirement already satisfied: pyparsing>=2.3.1 in c:\\users\\sumo8\\anaconda3\\envs\\data_extraction\\lib\\site-packages (from matplotlib->imgaug->paddleocr) (3.1.2)\n",
      "Requirement already satisfied: python-dateutil>=2.7 in c:\\users\\sumo8\\anaconda3\\envs\\data_extraction\\lib\\site-packages (from matplotlib->imgaug->paddleocr) (2.9.0)\n",
      "Using cached requests-2.32.3-py3-none-any.whl (64 kB)\n",
      "Using cached charset_normalizer-3.3.2-cp310-cp310-win_amd64.whl (100 kB)\n",
      "Using cached urllib3-2.2.2-py3-none-any.whl (121 kB)\n",
      "Installing collected packages: urllib3, charset-normalizer, requests\n",
      "Successfully installed charset-normalizer-3.3.2 requests-2.32.3 urllib3-2.2.2\n"
     ]
    }
   ],
   "source": [
    "!pip install paddlepaddle paddleocr requests"
   ]
  },
  {
   "cell_type": "code",
   "execution_count": 5,
   "metadata": {},
   "outputs": [
    {
     "name": "stdout",
     "output_type": "stream",
     "text": [
      "[2024/07/14 14:59:24] ppocr DEBUG: Namespace(help='==SUPPRESS==', use_gpu=False, use_xpu=False, use_npu=False, use_mlu=False, ir_optim=True, use_tensorrt=False, min_subgraph_size=15, precision='fp32', gpu_mem=500, gpu_id=0, image_dir=None, page_num=0, det_algorithm='DB', det_model_dir='C:\\\\Users\\\\sumo8/.paddleocr/whl\\\\det\\\\en\\\\en_PP-OCRv3_det_infer', det_limit_side_len=960, det_limit_type='max', det_box_type='quad', det_db_thresh=0.3, det_db_box_thresh=0.6, det_db_unclip_ratio=1.5, max_batch_size=10, use_dilation=False, det_db_score_mode='fast', det_east_score_thresh=0.8, det_east_cover_thresh=0.1, det_east_nms_thresh=0.2, det_sast_score_thresh=0.5, det_sast_nms_thresh=0.2, det_pse_thresh=0, det_pse_box_thresh=0.85, det_pse_min_area=16, det_pse_scale=1, scales=[8, 16, 32], alpha=1.0, beta=1.0, fourier_degree=5, rec_algorithm='SVTR_LCNet', rec_model_dir='C:\\\\Users\\\\sumo8/.paddleocr/whl\\\\rec\\\\en\\\\en_PP-OCRv4_rec_infer', rec_image_inverse=True, rec_image_shape='3, 48, 320', rec_batch_num=6, max_text_length=25, rec_char_dict_path='c:\\\\Users\\\\sumo8\\\\anaconda3\\\\envs\\\\data_extraction\\\\lib\\\\site-packages\\\\paddleocr\\\\ppocr\\\\utils\\\\en_dict.txt', use_space_char=True, vis_font_path='./doc/fonts/simfang.ttf', drop_score=0.5, e2e_algorithm='PGNet', e2e_model_dir=None, e2e_limit_side_len=768, e2e_limit_type='max', e2e_pgnet_score_thresh=0.5, e2e_char_dict_path='./ppocr/utils/ic15_dict.txt', e2e_pgnet_valid_set='totaltext', e2e_pgnet_mode='fast', use_angle_cls=True, cls_model_dir='C:\\\\Users\\\\sumo8/.paddleocr/whl\\\\cls\\\\ch_ppocr_mobile_v2.0_cls_infer', cls_image_shape='3, 48, 192', label_list=['0', '180'], cls_batch_num=6, cls_thresh=0.9, enable_mkldnn=False, cpu_threads=10, use_pdserving=False, warmup=False, sr_model_dir=None, sr_image_shape='3, 32, 128', sr_batch_num=1, draw_img_save_dir='./inference_results', save_crop_res=False, crop_res_save_dir='./output', use_mp=False, total_process_num=1, process_id=0, benchmark=False, save_log_path='./log_output/', show_log=True, use_onnx=False, return_word_box=False, output='./output', table_max_len=488, table_algorithm='TableAttn', table_model_dir=None, merge_no_span_structure=True, table_char_dict_path=None, layout_model_dir=None, layout_dict_path=None, layout_score_threshold=0.5, layout_nms_threshold=0.5, kie_algorithm='LayoutXLM', ser_model_dir=None, re_model_dir=None, use_visual_backbone=True, ser_dict_path='../train_data/XFUND/class_list_xfun.txt', ocr_order_method=None, mode='structure', image_orientation=False, layout=True, table=True, ocr=True, recovery=False, use_pdf2docx_api=False, invert=False, binarize=False, alphacolor=(255, 255, 255), lang='en', det=True, rec=True, type='ocr', savefile=False, ocr_version='PP-OCRv4', structure_version='PP-StructureV2')\n",
      "[2024/07/14 14:59:25] ppocr DEBUG: dt_boxes num : 44, elapsed : 0.16692829132080078\n",
      "[2024/07/14 14:59:26] ppocr DEBUG: cls num  : 44, elapsed : 0.13366031646728516\n",
      "[2024/07/14 14:59:27] ppocr DEBUG: rec_res num  : 44, elapsed : 1.4889724254608154\n",
      "Sliced/nvoices Invoice From: Invoice Number INV-3337 DEMO - Sliced Invoices Order Number 12345 Suite 5A-1204 Invoice Date January 25, 2016 123 Somewhere Street Due Date January 31, 2016 Your City AZ 12345 admin@slicedinvoices.com Total Due $93.50 To: Test Business 123 Somewhere St Melbourne, VIC 3000 test@test.com Hrs/Qty Service Rate/Price Adjust Sub Total 1.00 Web Design $85.00 0.00% $85.00 This is a sample description. Sub Total $85.00 Tax $8.50 Pa Total $93.50 ANZ Bank ACC # 1234 1234 BSB # 4321 432\n"
     ]
    }
   ],
   "source": [
    "\n",
    "from paddleocr import PaddleOCR\n",
    "import cv2\n",
    "\n",
    "# Initialize PaddleOCR\n",
    "ocr = PaddleOCR(use_angle_cls=True, lang='en') \n",
    "\n",
    "def image2text(image_path):\n",
    "    # Load image\n",
    "    image = cv2.imread(image_path)\n",
    "    if image is None:\n",
    "        raise FileNotFoundError(f\"Image not found at {image_path}\")\n",
    "    \n",
    "    # Perform OCR on the image\n",
    "    result = ocr.ocr(image, cls=True)\n",
    "    \n",
    "    # Extract text\n",
    "    text_list = []\n",
    "    for line in result:\n",
    "        for word in line:\n",
    "            text_list.append(word[1][0])\n",
    "    \n",
    "    # Join the text into a single string\n",
    "    invoice_data = \" \".join(text_list)\n",
    "    return invoice_data\n",
    "\n",
    "result=image2text(image_path='invoice.png')\n",
    "print(result)\n",
    "\n"
   ]
  },
  {
   "cell_type": "code",
   "execution_count": 1,
   "metadata": {},
   "outputs": [
    {
     "name": "stdout",
     "output_type": "stream",
     "text": [
      "{'Invoice Number': 'INV-3337', 'Order Number': '12345', 'Invoice Date': 'January 25, 2016', 'Due Date': 'January 31, 2016', 'Total Due': '$93.50', 'From': 'DEMO - Sliced Invoices\\nSuite 5A-1204\\n123 Somewhere Street \\nYour City AZ 12345\\nadmin@slicedinvoices.com', 'To': 'Test Business\\n123 Somewhere St\\nMelbourne, VIC 3000\\ntest@test.com', 'Hrs/Qty': '1.00', 'Service': 'Web Design', 'Rate/Price': '$85.00', 'Adjust': '0.00%', 'Sub Total': '$85.00', 'Tax': '$8.50', 'Pa Total': '$93.50', 'ANZ Bank ACC #': '1234 1234', 'BSB #': '4321 432'}\n"
     ]
    }
   ],
   "source": [
    "import json\n",
    "\n",
    "# Assuming this is your response string\n",
    "response = \"\"\"```json\n",
    "{\\\"Invoice Number\\\": \\\"INV-3337\\\", \\\"Order Number\\\": \\\"12345\\\", \\\"Invoice Date\\\": \\\"January 25, 2016\\\",\n",
    "\\\"Due Date\\\": \\\"January 31, 2016\\\", \\\"Total Due\\\": \\\"$93.50\\\",\n",
    "\\\"From\\\": \\\"DEMO - Sliced Invoices\\\\nSuite 5A-1204\\\\n123 Somewhere Street \\\\nYour City AZ 12345\\\\nadmin@slicedinvoices.com\\\",\n",
    "\\\"To\\\": \\\"Test Business\\\\n123 Somewhere St\\\\nMelbourne, VIC 3000\\\\ntest@test.com\\\",\n",
    "\\\"Hrs/Qty\\\": \\\"1.00\\\", \\\"Service\\\": \\\"Web Design\\\", \\\"Rate/Price\\\": \\\"$85.00\\\",\n",
    "\\\"Adjust\\\": \\\"0.00%\\\", \\\"Sub Total\\\": \\\"$85.00\\\", \\\"Tax\\\": \\\"$8.50\\\", \\\"Pa Total\\\": \\\"$93.50\\\",\n",
    "\\\"ANZ Bank ACC #\\\": \\\"1234 1234\\\", \\\"BSB #\\\": \\\"4321 432\\\"}\n",
    "```\"\"\"\n",
    "\n",
    "# Remove markdown and formatting text\n",
    "json_str = response.replace('```json\\n', '').replace('\\n```', '')\n",
    "\n",
    "# Parse JSON\n",
    "parsed_json = json.loads(json_str)\n",
    "\n",
    "# Print or return the parsed JSON\n",
    "print(parsed_json)\n"
   ]
  }
 ],
 "metadata": {
  "kernelspec": {
   "display_name": "base",
   "language": "python",
   "name": "python3"
  },
  "language_info": {
   "codemirror_mode": {
    "name": "ipython",
    "version": 3
   },
   "file_extension": ".py",
   "mimetype": "text/x-python",
   "name": "python",
   "nbconvert_exporter": "python",
   "pygments_lexer": "ipython3",
   "version": "3.10.14"
  }
 },
 "nbformat": 4,
 "nbformat_minor": 2
}
